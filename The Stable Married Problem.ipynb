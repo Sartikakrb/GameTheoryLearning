{
 "cells": [
  {
   "cell_type": "code",
   "execution_count": 103,
   "metadata": {
    "collapsed": true
   },
   "outputs": [],
   "source": [
    "guyprefers = {\n",
    " 'abe':  ['abi', 'eve', 'cath', 'ivy', 'jan', 'dee', 'fay', 'bea', 'hope', 'gay'],\n",
    " 'bob':  ['cath', 'hope', 'abi', 'dee', 'eve', 'fay', 'bea', 'jan', 'ivy', 'gay'],\n",
    " 'col':  ['hope', 'eve', 'abi', 'dee', 'bea', 'fay', 'ivy', 'gay', 'cath', 'jan'],\n",
    " 'dan':  ['ivy', 'fay', 'dee', 'gay', 'hope', 'eve', 'jan', 'bea', 'cath', 'abi'],\n",
    " 'ed':   ['jan', 'dee', 'bea', 'cath', 'fay', 'eve', 'abi', 'ivy', 'hope', 'gay'],\n",
    " 'fred': ['bea', 'abi', 'dee', 'gay', 'eve', 'ivy', 'cath', 'jan', 'hope', 'fay'],\n",
    " 'gav':  ['gay', 'eve', 'ivy', 'bea', 'cath', 'abi', 'dee', 'hope', 'jan', 'fay'],\n",
    " 'hal':  ['abi', 'eve', 'hope', 'fay', 'ivy', 'cath', 'jan', 'bea', 'gay', 'dee'],\n",
    " 'ian':  ['hope', 'cath', 'dee', 'gay', 'bea', 'abi', 'fay', 'ivy', 'jan', 'eve'],\n",
    " 'jon':  ['abi', 'fay', 'jan', 'gay', 'eve', 'bea', 'dee', 'cath', 'ivy', 'hope']}\n",
    "galprefers = {\n",
    " 'abi':  ['bob', 'fred', 'jon', 'gav', 'ian', 'abe', 'dan', 'ed', 'col', 'hal'],\n",
    " 'bea':  ['bob', 'abe', 'col', 'fred', 'gav', 'dan', 'ian', 'ed', 'jon', 'hal'],\n",
    " 'cath': ['fred', 'bob', 'ed', 'gav', 'hal', 'col', 'ian', 'abe', 'dan', 'jon'],\n",
    " 'dee':  ['fred', 'jon', 'col', 'abe', 'ian', 'hal', 'gav', 'dan', 'bob', 'ed'],\n",
    " 'eve':  ['jon', 'hal', 'fred', 'dan', 'abe', 'gav', 'col', 'ed', 'ian', 'bob'],\n",
    " 'fay':  ['bob', 'abe', 'ed', 'ian', 'jon', 'dan', 'fred', 'gav', 'col', 'hal'],\n",
    " 'gay':  ['jon', 'gav', 'hal', 'fred', 'bob', 'abe', 'col', 'ed', 'dan', 'ian'],\n",
    " 'hope': ['gav', 'jon', 'bob', 'abe', 'ian', 'dan', 'hal', 'ed', 'col', 'fred'],\n",
    " 'ivy':  ['ian', 'col', 'hal', 'gav', 'fred', 'bob', 'abe', 'ed', 'jon', 'dan'],\n",
    " 'jan':  ['ed', 'hal', 'gav', 'abe', 'bob', 'jon', 'col', 'ian', 'fred', 'dan']}"
   ]
  },
  {
   "cell_type": "markdown",
   "metadata": {},
   "source": [
    "http://www.csee.wvu.edu/~ksmani/courses/fa01/random/lecnotes/lecture5.pdf\n",
    "\n",
    "    \n",
    "#Function Proposal-Algorithm\n",
    "#1: while there is an unpaired man do\n",
    "#2: pick an unpaired man X and the first woman w on his list\n",
    "#3: remove w from his list so it won’t be picked again\n",
    "#4: if w is engaged then\n",
    "#5: if w prefers X more than her current partner Y then\n",
    "#6: set X-w as married\n",
    "#7: set Y-w as unmarried so now Y is unpaired\n",
    "#8: else\n",
    "#9: X is still unpaired since w is happier with Y\n",
    "#10: end if\n",
    "#11: else\n",
    "#12: the woman was not previously paired so accept immediately, X-w, as married\n",
    "#13: end if\n",
    "#14: end while"
   ]
  },
  {
   "cell_type": "code",
   "execution_count": 104,
   "metadata": {
    "collapsed": false,
    "scrolled": false
   },
   "outputs": [
    {
     "name": "stdout",
     "output_type": "stream",
     "text": [
      "abe\n",
      "abi  is single and go with  abe\n",
      "bob\n",
      "cath  is single and go with  bob\n",
      "col\n",
      "hope  is single and go with  col\n",
      "dan\n",
      "ivy  is single and go with  dan\n",
      "ed\n",
      "jan  is single and go with  ed\n",
      "fred\n",
      "bea  is single and go with  fred\n",
      "gav\n",
      "gay  is single and go with  gav\n",
      "hal\n",
      "abi  is still with  abe  because same or less than   hal 5 9\n",
      "ian\n",
      "hope  dump fiancee  col  and married  ian 8 4\n",
      "jon\n",
      "abi  dump fiancee  abe  and married  jon 5 2\n",
      "hal\n",
      "eve  is single and go with  hal\n",
      "col\n",
      "eve  is still with  hal  because same or less than   col 1 6\n",
      "abe\n",
      "eve  is still with  hal  because same or less than   abe 1 4\n",
      "col\n",
      "abi  is still with  jon  because same or less than   col 2 8\n",
      "abe\n",
      "cath  is still with  bob  because same or less than   abe 1 7\n",
      "col\n",
      "dee  is single and go with  col\n",
      "abe\n",
      "ivy  dump fiancee  dan  and married  abe 9 6\n",
      "dan\n",
      "fay  is single and go with  dan\n"
     ]
    }
   ],
   "source": [
    "N = len(guyprefers.keys())\n",
    "man = sorted(guyprefers.keys())\n",
    "woman = sorted(galprefers.keys())\n",
    "\n",
    "\n",
    "engaged = {} \n",
    "while len(man) != 0:      \n",
    "    X = man.pop(0)\n",
    "    print X\n",
    "    w = guyprefers[X].pop(0) \n",
    "    Y = engaged.get(w, None)#fiance\n",
    "    if Y:\n",
    "        liked = galprefers[w]\n",
    "        if liked.index(Y) > liked.index(X):\n",
    "            print w, \" dump fiancee \", Y, \" and married \", X, liked.index(Y) , liked.index(X)\n",
    "            engaged[w] = X            \n",
    "            man.append(Y)\n",
    "        else:\n",
    "            print w, \" is still with \",Y, \" because same or less than  \", X, liked.index(Y) , liked.index(X)\n",
    "            engaged[w] = Y\n",
    "            if liked.index(Y) < liked.index(X):\n",
    "                man.append(X)\n",
    "    else:\n",
    "        print w, \" is single and go with \", X\n",
    "        engaged[w] = X            "
   ]
  },
  {
   "cell_type": "code",
   "execution_count": 105,
   "metadata": {
    "collapsed": false
   },
   "outputs": [
    {
     "data": {
      "text/plain": [
       "{'abi': 'jon',\n",
       " 'bea': 'fred',\n",
       " 'cath': 'bob',\n",
       " 'dee': 'col',\n",
       " 'eve': 'hal',\n",
       " 'fay': 'dan',\n",
       " 'gay': 'gav',\n",
       " 'hope': 'ian',\n",
       " 'ivy': 'abe',\n",
       " 'jan': 'ed'}"
      ]
     },
     "execution_count": 105,
     "metadata": {},
     "output_type": "execute_result"
    }
   ],
   "source": [
    "engaged"
   ]
  },
  {
   "cell_type": "code",
   "execution_count": null,
   "metadata": {
    "collapsed": true
   },
   "outputs": [],
   "source": []
  }
 ],
 "metadata": {
  "anaconda-cloud": {},
  "kernelspec": {
   "display_name": "Python [conda root]",
   "language": "python",
   "name": "conda-root-py"
  },
  "language_info": {
   "codemirror_mode": {
    "name": "ipython",
    "version": 2
   },
   "file_extension": ".py",
   "mimetype": "text/x-python",
   "name": "python",
   "nbconvert_exporter": "python",
   "pygments_lexer": "ipython2",
   "version": "2.7.12"
  }
 },
 "nbformat": 4,
 "nbformat_minor": 1
}
